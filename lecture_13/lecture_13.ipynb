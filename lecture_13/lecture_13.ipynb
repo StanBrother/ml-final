{
 "cells": [
  {
   "cell_type": "markdown",
   "id": "9d603160-4c69-46be-8de7-1cd3b84c08e0",
   "metadata": {
    "ExecuteTime": {
     "end_time": "2024-06-14T16:30:33.137949361Z",
     "start_time": "2024-06-14T16:30:33.127434063Z"
    },
    "collapsed": true,
    "jupyter": {
     "outputs_hidden": true
    }
   },
   "source": [
    "# ლექცია #13"
   ]
  },
  {
   "cell_type": "markdown",
   "id": "bb4d811b-4376-4c1e-9a95-f63c42ae561c",
   "metadata": {
    "collapsed": false,
    "jupyter": {
     "outputs_hidden": false
    }
   },
   "source": [
    "## კოდების გაშვებისთვის საჭირო ბიბლიოთეკების იმპორტები"
   ]
  },
  {
   "cell_type": "code",
   "execution_count": 1,
   "id": "a2f88c43-50b6-4892-ad17-4ce9dbc81873",
   "metadata": {
    "ExecuteTime": {
     "end_time": "2024-06-15T03:05:48.977602794Z",
     "start_time": "2024-06-15T03:05:47.762979357Z"
    }
   },
   "outputs": [],
   "source": [
    "import numpy as np\n",
    "from sklearn.datasets import load_breast_cancer\n",
    "from sklearn.metrics import accuracy_score\n",
    "from sklearn.model_selection import train_test_split"
   ]
  },
  {
   "cell_type": "markdown",
   "id": "b668ca24-a095-46d5-b20e-b906b8ad9b5c",
   "metadata": {},
   "source": [
    "## პერსეპტრონი (Perceptron)"
   ]
  },
  {
   "cell_type": "markdown",
   "id": "b79ec04e-7eb3-4518-a54d-7137ad5c246a",
   "metadata": {},
   "source": [
    "პერსეპტრონი არის supervised სწავლების ორობითი კლასიფიკაციის ალგორითმი. ის მიიჩნევა ხელოვნური ნეირონული ქსელის (Artificial Neural Network) ერთეულად.\n",
    "\n",
    "* **ერთშრიანი პერსეპტრონი** (**Single Layer Perceptron**): შეუძლია მხოლოდ წრფივად განცალკევებადი შაბლონების სწავლა\n",
    "* **მრავალშრიანი პერსეპტრონი** (**Multi-Layer Perceptron**): შეუძლია კომპლექსური შაბლონების სწავლა\n",
    "\n",
    "![A biological neuron in comparison to an artificial neural network](https://www.researchgate.net/publication/339446790/figure/fig2/AS:862019817320450@1582532948784/A-biological-neuron-in-comparison-to-an-artificial-neural-network-a-human-neuron-b.png)\n",
    "\n",
    "![ANN](https://miro.medium.com/v2/resize:fit:1100/format:webp/1*qQPpdtR0r1APiEfTqN74aA.png)\n",
    "\n",
    "მათემატიკურად წრფივი მოდელი შეგვიძლია წარმოვადგინოთ შემდეგი ფუნქციის სახით:\n",
    "\n",
    "$$f(\\mathbf {x}) = \\sum^{n}_{i=1} w_ix_i + b = w_1x_1 + w_2x_2 + ... + w_nx_n + b = \\mathbf {w}  \\cdot \\mathbf {x} + b$$\n",
    "\n",
    "აქტივაციის ფუნქცია (Unit Step Function) კი:\n",
    "\n",
    "$$g(\\mathbf {z}) = \\begin{cases} 1 & \\mbox{if } \\mathbf {z} \\ge \\theta \\\\ 0 & otherwise \\end{cases}$$\n",
    "\n",
    "<div style=\"width:30%; margin: auto;\">\n",
    "<img src=\"https://miro.medium.com/max/762/1*K9QJmeG33SvQeJgPa52mmQ.png\" alt=\"Unit Step Function\"/>\n",
    "</div>\n",
    "\n",
    "შესაბამისად, ფორმულას ექნება შემდეგი სახე:\n",
    "\n",
    "$$\\hat{y} = g(f(\\mathbf {x})) = g(\\mathbf {w}  \\cdot \\mathbf {x} + b)$$\n",
    "\n",
    "**პერსეპტრონის განახლების წესი**\n",
    "\n",
    "თითოეული სატრენინგო მაგალისთისთვის ($x_i$):\n",
    "\n",
    "$$w = w + \\Delta w$$\n",
    "\n",
    "$$b = b + \\Delta b$$\n",
    "\n",
    "სადაც,\n",
    "\n",
    "$$\\Delta w = \\alpha \\cdot (y_i - \\hat{y_i}) \\cdot x_i$$\n",
    "\n",
    "$$\\Delta b = \\alpha \\cdot (y_i - \\hat{y_i})$$\n",
    "\n",
    "სადაც $\\alpha$ არის learning rate (ხანდახან მოიხსენიება ხოლმე, როგორც ნაბიჯის ზომა - step size), რომელიც უმეტესად მოთავსებულია 0-სა და 1-ს შორის."
   ]
  },
  {
   "cell_type": "code",
   "execution_count": 2,
   "id": "4d614c1a-0dff-4052-82e3-d186cc8b9413",
   "metadata": {},
   "outputs": [],
   "source": [
    "class Perceptron:\n",
    "    def __init__(self, learning_rate=0.01, n_iters=1000):\n",
    "        self.learning_rate = learning_rate\n",
    "        self.n_iters = n_iters\n",
    "        self.activation_func = lambda x: np.where(x > 0, 1, 0)\n",
    "        self.weights = None\n",
    "        self.bias = None\n",
    "\n",
    "    def fit(self, X, y):\n",
    "        _, n_features = X.shape\n",
    "\n",
    "        # თავდაპირველი წონები და bias\n",
    "        self.weights = np.zeros(n_features)\n",
    "        self.bias = 0\n",
    "\n",
    "        # პარამეტრების (წონებისა და bias-ის) სწავლა\n",
    "        for _ in range(self.n_iters):\n",
    "            for idx, x_i in enumerate(X):\n",
    "                lin_out = np.dot(x_i, self.weights) + self.bias\n",
    "                y_hat = self.activation_func(lin_out)\n",
    "\n",
    "                update = self.learning_rate * (y[idx] - y_hat)\n",
    "                self.weights += update * x_i\n",
    "                self.bias += update\n",
    "\n",
    "    def predict(self, X):\n",
    "        lin_out = np.dot(X, self.weights) + self.bias\n",
    "        y_hat = self.activation_func(lin_out)\n",
    "\n",
    "        return y_hat"
   ]
  },
  {
   "cell_type": "code",
   "execution_count": 3,
   "id": "9c56a554-19b3-4df5-bdd2-50f2c383b51e",
   "metadata": {},
   "outputs": [],
   "source": [
    "breast_cancer_data = load_breast_cancer()"
   ]
  },
  {
   "cell_type": "code",
   "execution_count": 4,
   "id": "0403aef7-49a7-485a-acdf-789702023aec",
   "metadata": {},
   "outputs": [],
   "source": [
    "X_train, X_test, y_train, y_test = train_test_split(\n",
    "    breast_cancer_data.data,\n",
    "    breast_cancer_data.target,\n",
    "    test_size=0.2,\n",
    "    stratify=breast_cancer_data.target,\n",
    "    random_state=2,\n",
    ")"
   ]
  },
  {
   "cell_type": "code",
   "execution_count": 5,
   "id": "98c54591-6076-4955-9a31-aaeaca505698",
   "metadata": {},
   "outputs": [
    {
     "name": "stdout",
     "output_type": "stream",
     "text": [
      "სატრენინგო მონაცემების ზომა: (455, 30) (455,)\n",
      "სატესტო მონაცემების ზომა: (114, 30) (114,)\n"
     ]
    }
   ],
   "source": [
    "print(\"სატრენინგო მონაცემების ზომა:\", X_train.shape, y_train.shape)\n",
    "print(\"სატესტო მონაცემების ზომა:\", X_test.shape, y_test.shape)"
   ]
  },
  {
   "cell_type": "code",
   "execution_count": 6,
   "id": "626c385d-b02f-4cea-9df8-2897bc34991d",
   "metadata": {},
   "outputs": [],
   "source": [
    "perceptron = Perceptron()\n",
    "perceptron.fit(X_train, y_train)"
   ]
  },
  {
   "cell_type": "code",
   "execution_count": 7,
   "id": "6772af21-e39e-45a8-8ff1-022c7cf57283",
   "metadata": {},
   "outputs": [
    {
     "name": "stdout",
     "output_type": "stream",
     "text": [
      "აკურატულობა სატრენინგო მონაცემებზე: 92.53%\n",
      "აკურატულობა სატესტო მონაცემებზე: 91.23%\n"
     ]
    }
   ],
   "source": [
    "train_preds = perceptron.predict(X_train)\n",
    "test_preds = perceptron.predict(X_test)\n",
    "\n",
    "print(\n",
    "    \"აკურატულობა სატრენინგო მონაცემებზე: \"\n",
    "    f\"{accuracy_score(y_train, train_preds) * 100:.2f}%\"\n",
    ")\n",
    "print(\n",
    "    \"აკურატულობა სატესტო მონაცემებზე: \"\n",
    "    f\"{accuracy_score(y_test, test_preds) * 100:.2f}%\"\n",
    ")"
   ]
  },
  {
   "cell_type": "markdown",
   "id": "c3610be0-4d25-40d1-8a0d-0ab4a0b99a96",
   "metadata": {},
   "source": [
    "## დამატებითი მასალები"
   ]
  },
  {
   "cell_type": "markdown",
   "id": "d7ab1d1c-2e08-4f07-83a3-094349477d8a",
   "metadata": {},
   "source": [
    "`scikit-learn`-ში არსებობს [MLPClassifier](https://scikit-learn.org/stable/modules/generated/sklearn.neural_network.MLPClassifier.html) და [MLPRegressor](https://scikit-learn.org/stable/modules/generated/sklearn.neural_network.MLPRegressor.html) კლასები, რომლებიც რეალურად მრავალშრიანი პერსეპტრონის იმპლემენტაციაა. თუმცა როდესაც ვმუშაობთ ნეირონულ ქსელებზე, `scikit-learn` ბიბლიოთეკას არ ვიყენებთ, რადგანაც ის მხოლოდ CPU-ზე მუშაობს და არ აქვს უამრავი ფუნქციონალის მხარდაჭერა, რაც საჭიროა ნეირონული ქსელების შესაქმნელად. ამიტომაც ხშირად გამოიყენება ისეთი ფრეიმვორქები, როგორებიცაა [PyTorch](https://pytorch.org/) და [TensorFlow](https://www.tensorflow.org/).\n",
    "\n",
    "\n",
    "ძალიან საინტერესო რამდენიმე ვიდეო აქვს [3blue1brown](https://www.3blue1brown.com/topics/neural-networks)-ს ნეირონულ ქსელებზე და გირჩევთ რომ უყუროთ."
   ]
  }
 ],
 "metadata": {
  "kernelspec": {
   "display_name": "Python 3 (ipykernel)",
   "language": "python",
   "name": "python3"
  },
  "language_info": {
   "codemirror_mode": {
    "name": "ipython",
    "version": 3
   },
   "file_extension": ".py",
   "mimetype": "text/x-python",
   "name": "python",
   "nbconvert_exporter": "python",
   "pygments_lexer": "ipython3",
   "version": "3.12.1"
  }
 },
 "nbformat": 4,
 "nbformat_minor": 5
}
