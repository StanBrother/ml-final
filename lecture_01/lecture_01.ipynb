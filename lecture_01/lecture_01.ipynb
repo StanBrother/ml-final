{
 "cells": [
  {
   "cell_type": "markdown",
   "id": "713120e4b125827c",
   "metadata": {
    "collapsed": false,
    "jupyter": {
     "outputs_hidden": false
    }
   },
   "source": [
    "# ლექცია #1"
   ]
  },
  {
   "cell_type": "markdown",
   "id": "cdf76688-0553-4ba1-a36a-3b4098168e1a",
   "metadata": {},
   "source": [
    "## კოდების გაშვებისთვის საჭირო ბიბლიოთეკების იმპორტები"
   ]
  },
  {
   "cell_type": "markdown",
   "id": "040a8e64-197b-4c48-ad05-346eb5b29cf5",
   "metadata": {},
   "source": [
    "ამ ნოუთბუქის გაშვებამდე არ დაგავიწყდეთ საჭირო დამოკიდებულებების (dependencies) დაინსტალირება, რომლებიც მოცემულია `requirements.txt` ფაილში. მარტივად, ტერმინალიდან გაუშვით:\n",
    "\n",
    "```bash\n",
    "pip install -r requirements.txt\n",
    "```"
   ]
  },
  {
   "cell_type": "code",
   "execution_count": 2,
   "id": "a81e042d-520a-4566-9bb4-6de841adc9a2",
   "metadata": {
    "ExecuteTime": {
     "end_time": "2024-04-13T14:11:52.908121368Z",
     "start_time": "2024-04-13T14:11:52.426548781Z"
    }
   },
   "outputs": [],
   "source": [
    "import numpy as np\n",
    "from sklearn.feature_extraction.text import TfidfVectorizer\n",
    "from sklearn.metrics.pairwise import cosine_similarity"
   ]
  },
  {
   "cell_type": "markdown",
   "id": "1e169c91-3b49-4617-b4e2-07d3a1f3f2d9",
   "metadata": {},
   "source": [
    "## ცოტა რამ ხელოვნური ინტელექტის შესახებ"
   ]
  },
  {
   "cell_type": "markdown",
   "id": "36230d5100ea3051",
   "metadata": {
    "collapsed": false,
    "jupyter": {
     "outputs_hidden": false
    }
   },
   "source": [
    "**ხელოვნური ინტელექტი** (**Artificial Intelligence** - **AI**) არის კომპიუტერული მეცნიერების დარგი, რომელიც მიზნად ისახავს ინტელექტუალური ქცევის მქონე მანქანების შექმნას - ადამიანის ინტელექტის სიმულაციას მანქანებში.\n",
    "\n",
    "**მანქანური სწავლება** (**Machine Learning** - **ML**) არის ხელოვნური ინტელექტის ქვეჯგუფი, რომელიც ფოკუსირებულია ისეთი სისტემების მშენებლობაზე, რომლებსაც შეუძლიათ ისწავლონ მონაცემებიდან და გააკეთონ პროგნოზები ან მიიღონ გადაწყვეტილებები მონაცემების საფუძველზე.\n",
    "\n",
    "**ღრმა სწავლება** (**Deep Learning** - **DL**) არის ხელოვნური ინტელექტის ქვეჯგუფი, რომელიც ფოკუსირებულია ნეირონული ქსელების შექმნაზე, რომლებიც შთაგონებულია ადამიანის ტვინის სტრუქტურითა და ფუნქციით. ამ ნეირონულ ქსელებს შეუძლიათ ისწავლონ დიდი რაოდენობით მონაცემებიდან და ისინი შეიძლება გამოყენებულ იქნას რთული პრობლემების გადასაჭრელად, როგორიცაა გამოსახულების და მეტყველების ამოცნობა, ბუნებრივი ენის დამუშავება და ა.შ.\n",
    "\n",
    "**მონაცემთა მეცნიერება** (**Data Science** - **DS**) არის მულტიდისციპლინარული მიდგომა, რომელიც დიდი რაოდენობით მონაცემების გასაანალიზებლად აერთიანებს პრინციპებსა და პრაქტიკებს მათემატიკის, სტატისტიკის, ხელოვნური ინტელექტისა და კომპიუტერული ინჟინერიის სფეროებიდან.\n",
    "\n",
    "<img src=\"https://theproposedhekimauniversity.org/wp-content/uploads/2021/11/data-science-in-marketing-post-venn-diagram.jpg\" alt=\"Data Science Diagram\" width=\"600\"/>\n",
    "\n",
    "<img src=\"https://images.datacamp.com/image/upload/v1685005202/ai_vs_ml_vs_dl_vs_data_science_a919109d75.png\" alt=\"AI ML DL DS Diagram\" width=\"500\"/>"
   ]
  },
  {
   "cell_type": "markdown",
   "id": "84a08dc981908d0d",
   "metadata": {
    "collapsed": false,
    "jupyter": {
     "outputs_hidden": false
    }
   },
   "source": [
    "**AI-ის 4 ტიპი**:\n",
    "\n",
    "1. **რეაქტიული AI** მოიცავს სისტემებს მეხსიერების გარეშე, რომლებიც შექმნილია ძალიან კონკრეტული ამოცანის შესასრულებლად. ვინაიდან მათ არ შეუძლიათ წინა შედეგების ან გადაწყვეტილებების გახსენება, ისინი მუშაობენ მხოლოდ ამჟამად ხელმისაწვდომი მონაცემებით. მაგალითად, IBM Deep Blue - ჭადრაკის მოთამაშე სუპერ კომპიუტერი, რომელმაც დაამარცხა გრანდმაისტერი გარი კასპაროვი 1990-იანების მიწურულს საჭადრაკო დაფაზე ფიგურების ანალიზით და თითოეული შესაძლო სვლის შედეგების პროგნოზირებით. Netflix რეკომენდაციის სისტემაც რეაქტიული AI-ია, რეალურად რეკომენდაციები მომდინარეობს მოდელებიდან, რომლებიც ამუშავებენ მონაცემებს ნახვების ისტორიიდან, რომ მომხმარებელს შესთავაზონ კონტენტი, რომელიც მათ ყველაზე მეტად მოეწონებათ.\n",
    "2. **შეზღუდული მეხსიერების AI**-ს შეუძლია მოერგოს წარსულ გამოცდილებას ან განაახლოს სისტემა ახალი დაკვირვებების ან მონაცემების საფუძველზე. ხშირად, განახლების რაოდენობა შეზღუდულია (სწორედ აქედან გამომდინარეობს სახელი) და მეხსიერების ხანგრძლივობა შედარებით მოკლეა. მაგალითად, ვირტუალური ასისტენტები, ჩატბოტები, თვითვმართვადი მანქანები.\n",
    "3. **თეორიული მეხსიერების AI** სრულად ადაპტირებადია და აქვს წარსული გამოცდილების სწავლისა და შენარჩუნების ფართო უნარი. ამ ტიპის ხელოვნური ინტელექტი მოიცავს მოწინავე ჩატ-ბოტებს, რომლებსაც შეუძლიათ გაიარონ ტურინგის ტესტი და მოატყუონ ადამიანი და დააჯერონ, რომ AI ადამიანი იყო. მიუხედავად იმისა, რომ ეს ვერსია მოწინავე და შთამბეჭდავია, ეს AI არ არის თვითშეგნებული.\n",
    "4. **თვითშეგნებული AI**, როგორც სახელიდან ჩანს, არიან მგრძნობიარენი და აცნობიერებენ საკუთარ არსებობას.\n",
    "\n",
    "** **ტურინგის ტესტი**: \"ადამიანი ურთიერთქმედებს ერთ კომპიუტერსა და ერთ ადამიანთან. კითხვებზე პასუხის გათვალისწინებით მან უნდა განსაზღვროს, ვის ესაუბრება: ადამიანს თუ კომპიუტერულ პროგრამას. კომპიუტერული პროგრამის მიზანია ადამიანი შეცდომაში შეიყვანოს და არასწორი არჩევანი გააკეთებინოს\".\n"
   ]
  },
  {
   "cell_type": "markdown",
   "id": "2853c4d3-da11-4b1a-bbab-21b0ea870ff1",
   "metadata": {
    "collapsed": false,
    "jupyter": {
     "outputs_hidden": false
    }
   },
   "source": [
    "ML-ის კონტექსტში, **მოდელი** არის რეალური სამყაროს პროცესის ან სისტემის მათემატიკური წარმოდგენა, რომლის გაგება ან რომელზე დაყრდნობითაც პროგნოზების გაკეთება გვინდა. მოდელი იქმნება მონაცემთა გამოყენებით, რომელიც შეიცავს ინფორმაციას პროცესის ან სისტემის შესახებ. ML მოდელის მიზანია ისწავლოს შაბლონები და კავშირები მონაცემებში, რომლებიც შეიძლება გამოყენებულ იქნას პროგნოზების ან გადაწყვეტილების მისაღებად.\n",
    "\n",
    "**ალგორითმი** არის წესების ან ინსტრუქციების ერთობლიობა, რომელსაც კომპიუტერი მიჰყვება პრობლემის გადასაჭრელად. ML-ის კონტექსტში, ალგორითმი გამოიყენება მონაცემთა ბაზაზე მოდელის მოსამზადებლად. ალგორითმი სწავლობს მონაცემებიდან მოდელის პარამეტრების კორექტირებით, რათა მინიმუმამდე დაიყვანოს დანაკარგის ფუნქცია, რომელიც ზომავს რამდენად კარგად მუშაობს მოდელი. ML ალგორითმები შედგენილია სტატისტიკის, კალკულუსისა და წრფივი ალგებრის საფუძველზე.\n",
    "\n",
    "ML ალგორითმის გაშვების პროცესს მონაცემთა ბაზაზე (სასწავლო მონაცემებზე) და ალგორითმის ოპტიმიზაციას გარკვეული შაბლონების ან შედეგების მოსაძებნად ეწოდება მოდელის **ტრენინგი**. "
   ]
  },
  {
   "cell_type": "markdown",
   "id": "6a83d47f-8de5-4158-86ca-73cb2598cb02",
   "metadata": {},
   "source": [
    "ML-ის ტიპები:\n",
    "\n",
    "1. **Supervised learning**: თითოეულ მონაცემს გააჩნია თავისი შესაბამისი ეტიკეტი (**label**) და მოდელმა მონაცემებზე დაყრდნობით უნდა ისწავლოს ამ ეტიკეტის დადგენა.\n",
    "\n",
    "<img src=\"https://miro.medium.com/v2/resize:fit:1400/1*_YfYURermogYfTxYUEhXNA.jpeg\" alt=\"Supervised Learning\" width=\"500\"/>\n",
    "\n",
    "2. **Unsupervised learning**: მონაცემებს არ გააჩნია ეტიკეტები.\n",
    "\n",
    "![Unsupervised Learning](https://miro.medium.com/v2/resize:fit:433/1*Iihw0V-r0raMMtcDTFGGQA.png)\n",
    "\n",
    "3. **Reinforcement learning**: აგენტი (სუბიექტი, რომელიც სწავლობს და იღებს გადაწყვეტილებებს) სწავლობს გადაწყვეტილებების მიღებას გარემოსთან ურთიერთქმედებით. აგენტი მისი ქმედებებისთვის იღებს უკუკავშირს გარემოსგან ჯილდოს ან ჯარიმების სახით. აგენტი სწავლობს მიზნის მიღწევას ან ჯილდოს მაქსიმიზაციას ცდისა და შეცდომის (trial and error) გზით, მკაფიო ინსტრუქციების გარეშე, თუ როგორ უნდა შეასრულოს დავალება.\n",
    "\n",
    "<img src=\"https://www.kdnuggets.com/wp-content/uploads/awan_reinforcement_learning_newbies_1.png\" alt=\"Reinforcement learning\" width=\"500\"/>"
   ]
  },
  {
   "cell_type": "markdown",
   "id": "69da2732-95f5-4bf8-880b-280fbf55915f",
   "metadata": {},
   "source": [
    "**მოდელის ტრენინგის მაგალითი supervised learning-ში**:\n",
    "\n",
    "გვაქვს ეტიკეტიანი მონაცემები, რომლებიც უნდა დაიყოს სატრენინგო და სატესტო მონაცემებად. შესაბამისად, სატრენინგო მონაცემების გამოყენებით ხდება ტრენინგი, ხოლო სატესტო მონაცემები გამოიყენება დატრენინგებული მოდელის შესაფასებლად.\n",
    "\n",
    "![Labeled Data](https://developers.google.com/static/machine-learning/intro-to-ml/images/labeled_example.png)\n",
    "\n",
    "ტრენინგი:\n",
    "\n",
    "1. მოდელი იღებს ერთ ეტიკეტირებულ მაგალითს და იძლევა პროგნოზს.\n",
    "\n",
    "![Prediction](https://developers.google.com/static/machine-learning/intro-to-ml/images/training-a-model-01.png)\n",
    "\n",
    "2. მოდელი ადარებს მის პროგნოზირებულ მნიშვნელობას რეალურ მნიშვნელობას და აახლებს მის გადაწყვეტის გზას.\n",
    "\n",
    "<img src=\"https://developers.google.com/static/machine-learning/intro-to-ml/images/training-a-model-02.png\" alt=\"Comparing\" width=\"600\"/>\n",
    "\n",
    "3. მოდელი იმეორებს ამ პროცესს მონაცემთა ნაკრების თითოეული მაგალითისთვის.\n",
    "\n",
    "![Training](https://developers.google.com/static/machine-learning/intro-to-ml/images/training-a-model-03.png)\n",
    "\n",
    "შეფასება:\n",
    "\n",
    "როდესაც ჩვენ ვაფასებთ მოდელს, მას ვაძლევთ მხოლოდ მონაცემთა მახასიათებლებს (**features**). შემდეგ ჩვენ ვადარებთ მოდელის პროგნოზებს ეტიკეტის ნამდვილ მნიშვნელობებს.\n",
    "\n",
    "<img src=\"https://developers.google.com/static/machine-learning/intro-to-ml/images/evaluating-a-model.png\" alt=\"Evaluating\" width=\"600\"/>"
   ]
  },
  {
   "cell_type": "markdown",
   "id": "2c295ed8-69df-4fda-8574-508d7ce1cad6",
   "metadata": {},
   "source": [
    "## ვექტორები"
   ]
  },
  {
   "cell_type": "markdown",
   "id": "cfd69ff8-543c-44d9-8f3c-33ad8e4d17e9",
   "metadata": {},
   "source": [
    "ორიენტირებულ მონაკვეთს, რომლისთვისაც დასახელებულია სათავე და ბოლო წერტილები, ვექტორი ეწოდება.\n",
    "\n",
    "<img src=\"https://upload.wikimedia.org/wikipedia/commons/thumb/9/95/Vector_from_A_to_B.svg/1200px-Vector_from_A_to_B.svg.png\" alt=\"Vector\" width=\"500\"/>\n",
    "\n",
    "ვექტორი, რომლის სათავე A წერტილია, ხოლო ბოლო B წერტილია, აღინიშნება $\\overrightarrow{AB}$ სიმბოლოთი.\n",
    "\n",
    "ვექტორს, რომლის სათავე და ბოლო წერტილები ერთმანეთს ემთხვევიან, ნულოვანი ვექტორი ეწოდება და მას მიმართულება არ გააჩნია. ნულოვანი ვექტორი ასე აღინიშნება - $\\vec{0}$.\n",
    "\n",
    "A და B წერტილებს შორის მანძილს $\\overrightarrow{AB}$ ვექტორის სიგრძე ეწოდება და აღინიშნება $\\|\\overrightarrow{AB}\\|$ სიმბოლოთი. ნულოვანი ვექტორის სიგრძე 0-ია. ვექტორს, რომლის სიგრძე 1-ის ტოლია, ერთეულოვანი ვექტორი ეწოდება.\n",
    "\n",
    "ვექტორის სიგრძის გამოსათვლელი ფორმულაა $\\sqrt{x^2+y^2}$.\n",
    "\n",
    "![Length of a vector](https://cdn.kastatic.org/ka-perseus-images/9150ff25c140f6abd6da845d59533880324158a9.png)\n"
   ]
  },
  {
   "cell_type": "code",
   "execution_count": 3,
   "id": "624a24c3-1df1-4dc6-a55b-09e7c259fbd4",
   "metadata": {
    "ExecuteTime": {
     "end_time": "2024-04-07T10:59:50.062757422Z",
     "start_time": "2024-04-07T10:59:50.016492763Z"
    }
   },
   "outputs": [
    {
     "data": {
      "text/plain": [
       "5.0"
      ]
     },
     "execution_count": 3,
     "metadata": {},
     "output_type": "execute_result"
    }
   ],
   "source": [
    "a = np.array([3, 4])\n",
    "\n",
    "size = np.linalg.norm(a)\n",
    "size"
   ]
  },
  {
   "cell_type": "markdown",
   "id": "cbbce315-1df0-4911-8af0-0c9ddc5e5db2",
   "metadata": {},
   "source": [
    "ორ ვექტორს **ტოლი** ეწოდება, თუ მათ (სათავის ანუ მოდების წერტილისგან დამოუკიდებლად) ტოლი სიგრძე და ერთი და იგივე მიმართულება აქვთ.\n",
    "\n",
    "![Equal Vectors](https://onlinemschool.com/pictures/vector/vector_equality.png)"
   ]
  },
  {
   "cell_type": "markdown",
   "id": "26de93ed-47de-44a0-b0cb-dcb06e7b0c6f",
   "metadata": {},
   "source": [
    "ორ ვექტორს ეწოდება **კოლინეარული**, თუ ისინი ერთი და იგივე წრფის პარალელურია, და **კომპლანარული**, თუ ერთი და იგივე სიბრტყის პარალელურია.\n",
    "\n",
    "![Collinear and Coplanar Vectors](https://tuitionphysics.com/wp-content/uploads/2020/05/scalar-and-vector-quantities-what-exactly-are-they.jpg)"
   ]
  },
  {
   "cell_type": "markdown",
   "id": "eb23177a-4ae9-45d7-921d-ae46eaac3c92",
   "metadata": {},
   "source": [
    "### ვექტორების შეკრება"
   ]
  },
  {
   "cell_type": "markdown",
   "id": "a102ac49-4c95-4252-87c0-5e87986b78d9",
   "metadata": {},
   "source": [
    "$$\\vec{a} = (x_1; y_1)$$\n",
    "\n",
    "$$\\vec{b} = (x_2; y_2)$$\n",
    "\n",
    "$$\\vec{a} + \\vec{b} = (x_1 + x_2; y_1 + y_2)$$\n",
    "\n",
    "**ვექტორების შეკრების სამკუთხედის და პარალელოგრამის წესი**:\n",
    "\n",
    "<img src=\"https://upload.wikimedia.org/wikipedia/commons/thumb/2/28/Vector_addition.svg/1920px-Vector_addition.svg.png\" alt=\"Addition of Vectors\" width=\"600\"/>"
   ]
  },
  {
   "cell_type": "code",
   "execution_count": 4,
   "id": "fc0bc21f-7c5b-4107-9bca-853e91b40dba",
   "metadata": {
    "ExecuteTime": {
     "end_time": "2024-04-07T10:59:50.114367844Z",
     "start_time": "2024-04-07T10:59:50.021542856Z"
    }
   },
   "outputs": [
    {
     "data": {
      "text/plain": [
       "array([5, 7, 9])"
      ]
     },
     "execution_count": 4,
     "metadata": {},
     "output_type": "execute_result"
    }
   ],
   "source": [
    "a = np.array([1, 2, 3])\n",
    "b = np.array([4, 5, 6])\n",
    "\n",
    "sum_vector = a + b\n",
    "sum_vector"
   ]
  },
  {
   "cell_type": "markdown",
   "id": "d1451484-034a-41fe-bb54-ee9f80dad7ec",
   "metadata": {},
   "source": [
    "### ვექტორების გამოკლება"
   ]
  },
  {
   "cell_type": "markdown",
   "id": "cc38ec9d-0d1f-4936-9e6c-cb1f559a17a4",
   "metadata": {},
   "source": [
    "$$\\vec{a} = (x_1; y_1)$$\n",
    "\n",
    "$$\\vec{b} = (x_2; y_2)$$\n",
    "\n",
    "$$\\vec{a} - \\vec{b} = (x_1 - x_2; y_1 - y_2)$$\n",
    "\n",
    "<img src=\"https://upload.wikimedia.org/wikipedia/commons/thumb/2/24/Vector_subtraction.svg/1280px-Vector_subtraction.svg.png\" alt=\"Subtraction of Vectors\" width=\"600\"/>"
   ]
  },
  {
   "cell_type": "code",
   "execution_count": 5,
   "id": "503799ba-9df0-411e-a462-59330e8af130",
   "metadata": {
    "ExecuteTime": {
     "end_time": "2024-04-07T10:59:50.115465005Z",
     "start_time": "2024-04-07T10:59:50.050328058Z"
    }
   },
   "outputs": [
    {
     "data": {
      "text/plain": [
       "array([-3, -3, -3])"
      ]
     },
     "execution_count": 5,
     "metadata": {},
     "output_type": "execute_result"
    }
   ],
   "source": [
    "a = np.array([1, 2, 3])\n",
    "b = np.array([4, 5, 6])\n",
    "\n",
    "difference_vector = a - b\n",
    "difference_vector"
   ]
  },
  {
   "cell_type": "markdown",
   "id": "c82508b3-01c3-4c66-88f4-63191a09d07f",
   "metadata": {},
   "source": [
    "### ვექტორის სკალარზე ნამრავლი"
   ]
  },
  {
   "attachments": {},
   "cell_type": "markdown",
   "id": "7c75fca1-f605-43ec-b63e-32f96405c43e",
   "metadata": {},
   "source": [
    "$$\\vec{a} = (x; y)$$\n",
    "\n",
    "$$\\lambda \\cdot \\vec{a}=(\\lambda x; \\lambda  y)$$\n",
    "\n",
    "$$0 \\cdot \\vec{a} = \\vec{0}$$\n",
    "\n",
    "$$(-1) \\cdot \\vec{a} = -\\vec{a}$$\n",
    "\n",
    "$$\\lambda \\cdot \\vec{0} = \\vec{0}$$\n",
    "\n",
    "<img src=\"https://upload.wikimedia.org/wikipedia/commons/thumb/f/fa/Scalar_multiplication_by_r%3D3.svg/1920px-Scalar_multiplication_by_r%3D3.svg.png\" alt=\"Scalar Multiplication by 3\" width=\"600\"/>\n",
    "\n",
    "<img src=\"https://upload.wikimedia.org/wikipedia/commons/thumb/1/1b/Scalar_multiplication_of_vectors2.svg/1920px-Scalar_multiplication_of_vectors2.svg.png\" alt=\"Scalar Multiplication\" width=\"600\"/>"
   ]
  },
  {
   "cell_type": "code",
   "execution_count": 6,
   "id": "5a804e8b-c16d-42a6-9950-1b6457382f50",
   "metadata": {
    "ExecuteTime": {
     "end_time": "2024-04-07T10:59:50.116821887Z",
     "start_time": "2024-04-07T10:59:50.050805229Z"
    }
   },
   "outputs": [
    {
     "data": {
      "text/plain": [
       "array([ 5, 10, 15])"
      ]
     },
     "execution_count": 6,
     "metadata": {},
     "output_type": "execute_result"
    }
   ],
   "source": [
    "a = np.array([1, 2, 3])\n",
    "scalar = 5\n",
    "\n",
    "product_vector = scalar * a\n",
    "product_vector"
   ]
  },
  {
   "cell_type": "markdown",
   "id": "7ff46eec-523c-4107-8888-469c8c9bd38e",
   "metadata": {},
   "source": [
    "### Dot product"
   ]
  },
  {
   "attachments": {},
   "cell_type": "markdown",
   "id": "2f3985d4-18f0-42e5-a2d7-c157be6528b7",
   "metadata": {},
   "source": [
    "კუთხე $\\vec{a}$ და $\\vec{b}$ ვექტორებს შორის ეწოდება იმ უმცირეს კუთხეს, რომლითაც უნდა მოვატრიალოთ ერთ-ერთი მათგანი რომ მეორეს დაემთხვეს.\n",
    "\n",
    "![Angle Between Vectors](https://onlinemschool.com/pictures/vector/vector_angl.png)"
   ]
  },
  {
   "cell_type": "markdown",
   "id": "7bf2de91-58f7-4c61-afce-a6f2d74f856e",
   "metadata": {},
   "source": [
    "$$\\vec{a} \\cdot \\vec{b} = \\| \\vec{a} \\| \\| \\vec{b} \\| \\cos(\\theta)$$\n",
    "\n",
    "$$\\cos(\\theta) = \\dfrac{\\vec{a} \\cdot \\vec{b}}{\\| \\vec{a} \\| \\| \\vec{b} \\|}$$\n",
    "\n",
    "$$\\vec{a} = (a_1, a_2, a_3)$$\n",
    "\n",
    "$$\\vec{b} = (b_1, b_2, b_3)$$\n",
    "\n",
    "$$\\vec{a} \\cdot \\vec{b} = a_1b_1 + a_2b_2 + a_3b_3$$"
   ]
  },
  {
   "cell_type": "code",
   "execution_count": 7,
   "id": "d6bf7242-f857-45bc-a7ad-befbc8bae15d",
   "metadata": {
    "ExecuteTime": {
     "end_time": "2024-04-07T10:59:50.117627698Z",
     "start_time": "2024-04-07T10:59:50.051186488Z"
    }
   },
   "outputs": [
    {
     "data": {
      "text/plain": [
       "32"
      ]
     },
     "execution_count": 7,
     "metadata": {},
     "output_type": "execute_result"
    }
   ],
   "source": [
    "a = np.array([1, 2, 3])\n",
    "b = np.array([4, 5, 6])\n",
    "\n",
    "dot_product = np.dot(a, b)\n",
    "dot_product"
   ]
  },
  {
   "cell_type": "markdown",
   "id": "bed574b8-b547-4c77-88d8-23deac3110e9",
   "metadata": {},
   "source": [
    "### Cross product"
   ]
  },
  {
   "cell_type": "markdown",
   "id": "af0d55b2-9d01-42ce-8388-9d9c332a52be",
   "metadata": {},
   "source": [
    "$$\\vec{a} \\times \\vec{b} = \\vec{c}$$\n",
    "\n",
    "$$\\| \\vec{c} \\| = \\| \\vec{a} \\| \\| \\vec{b} \\| \\sin(\\theta)$$\n",
    "\n",
    "$$\\vec{a} = (a_1, a_2, a_3)$$\n",
    "\n",
    "$$\\vec{b} = (b_1, b_2, b_3)$$\n",
    "\n",
    "$$\n",
    "\\vec{a} \\times \\vec{b} = \\begin{bmatrix}\n",
    "a_2b_3 - a_3b_2 \\\\ \\\\\n",
    "a_3b_1 - a_1b_3 \\\\ \\\\\n",
    "a_1b_2 - a_2b_1\n",
    "\\end{bmatrix}\n",
    "$$\n",
    "\n",
    "![Cross Product](https://www.sharetechnote.com/image/EngMath_Matrix_CrossProduct_01.png)"
   ]
  },
  {
   "cell_type": "code",
   "execution_count": 8,
   "id": "54ce5af2-1905-4198-854d-323b95206127",
   "metadata": {
    "ExecuteTime": {
     "end_time": "2024-04-07T10:59:50.118469086Z",
     "start_time": "2024-04-07T10:59:50.051554232Z"
    }
   },
   "outputs": [
    {
     "data": {
      "text/plain": [
       "array([-3,  6, -3])"
      ]
     },
     "execution_count": 8,
     "metadata": {},
     "output_type": "execute_result"
    }
   ],
   "source": [
    "a = np.array([1, 2, 3])\n",
    "b = np.array([4, 5, 6])\n",
    "\n",
    "cross_product = np.cross(a, b)\n",
    "cross_product"
   ]
  },
  {
   "cell_type": "markdown",
   "id": "1e16cf23-db27-4217-8600-f772214d4259",
   "metadata": {},
   "source": [
    "### 2 ვექტორს შორის მანძილი"
   ]
  },
  {
   "cell_type": "markdown",
   "id": "54c48964-3563-47b4-9c43-eac3aa1c6752",
   "metadata": {
    "ExecuteTime": {
     "end_time": "2024-03-04T16:47:39.944601324Z",
     "start_time": "2024-03-04T16:47:39.934978276Z"
    }
   },
   "source": [
    "$$d(\\vec{a}, \\vec{b}) = \\| \\vec{a} - \\vec{b} \\| = \\sqrt{(a_1 - b_1)^2 + (a_2 - b_2)^2 + ... + (a_n - b_n)^2}$$\n",
    "\n",
    "$$\\vec{a} = (2, 3, 4, 2)$$\n",
    "$$\\vec{b} = (1, -2, 1, 3)$$\n",
    "\n",
    "$$d(\\vec{a}, \\vec{b}) = \\sqrt{(2 - 1)^2 + (3 - (-2))^2  + (4 - 1)^2 + (2 - 3)^2} = \\sqrt{1 + 25 + 9 + 1} = \\sqrt{36} = 6$$\n"
   ]
  },
  {
   "cell_type": "code",
   "execution_count": 9,
   "id": "48d73fbe-29b2-464f-8b23-3b73f4cf99a5",
   "metadata": {
    "ExecuteTime": {
     "end_time": "2024-04-07T10:59:50.128859722Z",
     "start_time": "2024-04-07T10:59:50.052023759Z"
    }
   },
   "outputs": [
    {
     "data": {
      "text/plain": [
       "6.0"
      ]
     },
     "execution_count": 9,
     "metadata": {},
     "output_type": "execute_result"
    }
   ],
   "source": [
    "a = np.array([2, 3, 4, 2])\n",
    "b = np.array([1, -2, 1, 3])\n",
    "\n",
    "euclidean_distance = np.linalg.norm(a - b)\n",
    "euclidean_distance"
   ]
  },
  {
   "cell_type": "markdown",
   "id": "f665421b-1aa3-4e7e-ab1d-89f0065a5e42",
   "metadata": {},
   "source": [
    "### ვექტორების ნორმები"
   ]
  },
  {
   "cell_type": "markdown",
   "id": "f6318b94-709d-4590-89a9-572fe926d515",
   "metadata": {},
   "source": [
    "#### ნულოვანი რიგის ნორმა"
   ]
  },
  {
   "cell_type": "markdown",
   "id": "7c336072-1e52-4c8b-bfe6-48ecc87787c0",
   "metadata": {},
   "source": [
    "არანულოვან ელემენტთა რაოდენობა ვექტორში"
   ]
  },
  {
   "cell_type": "code",
   "execution_count": 10,
   "id": "0b8a5903-3f28-4c13-8b1d-6ce9aba832a8",
   "metadata": {
    "ExecuteTime": {
     "end_time": "2024-04-07T10:59:50.131786497Z",
     "start_time": "2024-04-07T10:59:50.055772436Z"
    }
   },
   "outputs": [
    {
     "data": {
      "text/plain": [
       "5.0"
      ]
     },
     "execution_count": 10,
     "metadata": {},
     "output_type": "execute_result"
    }
   ],
   "source": [
    "a = np.array([1, -2, 3, 0, -9, 2, 0])\n",
    "norm_0 = np.linalg.norm(a, 0)\n",
    "norm_0"
   ]
  },
  {
   "cell_type": "markdown",
   "id": "b9beeb8d-3ebe-4839-97ef-997c10ba115b",
   "metadata": {},
   "source": [
    "#### პირველი ნორმა"
   ]
  },
  {
   "cell_type": "markdown",
   "id": "7988824d-6a45-4b4b-bc11-ff8b63dbf13c",
   "metadata": {},
   "source": [
    "ელემენტების აბსოლუტური მნიშვნელობების ჯამი\n",
    "\n",
    "$$\\| x \\| _1 = \\sum^{n}_{i=1} |x_i|$$"
   ]
  },
  {
   "cell_type": "code",
   "execution_count": 11,
   "id": "724caae6-3dcf-4fba-ac3e-b67ea15b8d29",
   "metadata": {
    "ExecuteTime": {
     "end_time": "2024-04-07T10:59:50.134013311Z",
     "start_time": "2024-04-07T10:59:50.062620914Z"
    }
   },
   "outputs": [
    {
     "data": {
      "text/plain": [
       "6.0"
      ]
     },
     "execution_count": 11,
     "metadata": {},
     "output_type": "execute_result"
    }
   ],
   "source": [
    "a = np.array([-1, -2, 3])\n",
    "norm_1 = np.linalg.norm(a, 1)\n",
    "norm_1"
   ]
  },
  {
   "cell_type": "markdown",
   "id": "e4eac240-3bc8-4d1b-b74d-04de3bab3379",
   "metadata": {},
   "source": [
    "#### მეორე ნორმა"
   ]
  },
  {
   "cell_type": "markdown",
   "id": "0509e062-7428-4c57-87af-325cbef60ce8",
   "metadata": {},
   "source": [
    "ვექტორის სიგრძე\n",
    "\n",
    "$$\\| x \\| _2 = \\sqrt{x_1^2 + x_2^2 + ... + x_n^2}$$"
   ]
  },
  {
   "cell_type": "code",
   "execution_count": 12,
   "id": "e2ae905f-4ffe-4cdc-9b76-57ec4867a27f",
   "metadata": {
    "ExecuteTime": {
     "end_time": "2024-04-07T10:59:50.162621168Z",
     "start_time": "2024-04-07T10:59:50.084881869Z"
    }
   },
   "outputs": [
    {
     "data": {
      "text/plain": [
       "3.7416573867739413"
      ]
     },
     "execution_count": 12,
     "metadata": {},
     "output_type": "execute_result"
    }
   ],
   "source": [
    "a = np.array([1, 2, 3])\n",
    "norm_2 = np.linalg.norm(a, 2)\n",
    "norm_2"
   ]
  },
  {
   "cell_type": "markdown",
   "id": "dff7f7ab-e593-4b64-9ded-35f9bed546e9",
   "metadata": {},
   "source": [
    "#### უსასრულობა ნორმა"
   ]
  },
  {
   "cell_type": "markdown",
   "id": "a4b957a1-c5b2-4353-825e-200b013a266a",
   "metadata": {},
   "source": [
    "ელემენტების აბსოლუტური მნიშვნელობებიდან მაქსიმალური\n",
    "\n",
    "$$\\| x \\| _\\infty = \\max_{i} | x_i |$$"
   ]
  },
  {
   "cell_type": "code",
   "execution_count": 13,
   "id": "ec69e487-614b-41ca-b1fd-46666647c9fd",
   "metadata": {
    "ExecuteTime": {
     "end_time": "2024-04-07T10:59:50.163619072Z",
     "start_time": "2024-04-07T10:59:50.085381422Z"
    }
   },
   "outputs": [
    {
     "data": {
      "text/plain": [
       "3.0"
      ]
     },
     "execution_count": 13,
     "metadata": {},
     "output_type": "execute_result"
    }
   ],
   "source": [
    "a = np.array([1, 2, -3])\n",
    "norm_inf = np.linalg.norm(a, np.inf)\n",
    "norm_inf"
   ]
  },
  {
   "cell_type": "markdown",
   "id": "19bac5a0-22c5-4029-8f65-3d907ea15d82",
   "metadata": {},
   "source": [
    "#### P ნორმა"
   ]
  },
  {
   "cell_type": "markdown",
   "id": "86988746-3a92-4f12-8c85-af8473c6bd19",
   "metadata": {},
   "source": [
    "$$\\| x \\| _p = (\\sum^{n}_{i=1} |x_i|^p)^ \\frac{1}{p}$$\n",
    "\n",
    "$$\\| x \\| _p = \\sqrt[p]{|x_1|^p + |x_2|^p + ... + |x_n|^p}$$"
   ]
  },
  {
   "cell_type": "code",
   "execution_count": 14,
   "id": "2e5b9235-557b-40ea-8199-90acc3f0b16d",
   "metadata": {
    "ExecuteTime": {
     "end_time": "2024-04-07T10:59:50.164440312Z",
     "start_time": "2024-04-07T10:59:50.085708720Z"
    }
   },
   "outputs": [
    {
     "data": {
      "text/plain": [
       "3.077384885394063"
      ]
     },
     "execution_count": 14,
     "metadata": {},
     "output_type": "execute_result"
    }
   ],
   "source": [
    "a = np.array([1, 2, -3])\n",
    "p = 5\n",
    "norm_p = np.linalg.norm(a, p)\n",
    "norm_p"
   ]
  },
  {
   "cell_type": "markdown",
   "id": "c129ab89-e4fd-4110-b096-d1763352475a",
   "metadata": {
    "collapsed": false,
    "jupyter": {
     "outputs_hidden": false
    }
   },
   "source": [
    "## უახლოესი მეზობლის კლასიფიკატორი"
   ]
  },
  {
   "cell_type": "markdown",
   "id": "6995d4ba-e613-4fc9-a246-147a0c9d81c7",
   "metadata": {},
   "source": [
    "უახლოესი მეზობლის კლასიფიკატორი უმარტივესი კლასიფიკატორია. როდესაც ახალი ნივთის კლასიფიკაცია გვსურს, ის პოულობს სასწავლო მონაცემთა ერთეულს, რომელიც ყველაზე მეტად ჰგავს ახალ ელემენტს და გამოაქვს მისი ეტიკეტი.\n",
    "\n",
    "![Nearest Neighbor](https://course.elementsofai.com/static/4_2_nearest-neighbor-graph-ff89ea77c8009dafc4966c0cca4df4dc.svg)\n",
    "\n",
    "ზემოთ მოცემულ დიაგრამაში მოცემულია ტრენინგის მონაცემები, რომელთაგან ზოგიერთი ეკუთვნის ერთ კლასს (მწვანე) და ზოგიერთი მეორე მეორე კლასს (ლურჯი). გარდა ამისა, არის სატესტო მონაცემების ორი ელემენტი, ვარსკვლავები, რომელთა კლასიფიკაციას ვაპირებთ უახლოესი მეზობლის მეთოდით.\n",
    "\n",
    "ორივე სატესტო ელემენტი კლასიფიცირებულია როგორც \"მწვანე\", რადგან მათი უახლოესი მეზობლები ორივე მწვანეა."
   ]
  },
  {
   "cell_type": "markdown",
   "id": "037eb502-b333-40df-86e9-5ad97d075715",
   "metadata": {},
   "source": [
    "**რა იგულისხმება, როცა ვამბობთ \"უახლოესი\"?**\n",
    "\n",
    "საინტერესო კითხვა, რომელიც დაკავშირებულია (სხვა საკითხებთან ერთად) უახლოესი მეზობლის კლასიფიკატორთან არის ინსტანსებს/წერტილებს შორის მანძილის ან მსგავსების განსაზღვრა. ზემოთ მოყვანილ დიაგრამაში ნაგულისხმევია, რომ გამოყენებულია სტანდარტული გეომეტრიული მანძილი, რომელსაც ტექნიკურ ენაზე უწოდებენ ევკლიდურ მანძილს. ეს უბრალოდ ნიშნავს, რომ თუ წერტილები დახატულია ფურცელზე (ან ნაჩვენებია თქვენს ეკრანზე), შეგიძლიათ გაზომოთ მანძილი ნებისმიერ ორ ელემენტს შორის ძაფის პირდაპირ ერთიდან მეორე წერტილამდე გადაჭიმვით და სიგრძის გაზომვით.\n",
    "\n",
    "გეომეტრიული მანძილის გამოყენება უახლოესი ელემენტის დასადგენად შეიძლება ყოველთვის არ იყოს გონივრული ან თუნდაც შესაძლებელი: მონაცემის ტიპი შეიძლება იყოს ტექსტი, სადაც გაუგებარია ელემენტების გეომეტრიული გამოსახულება და მათ შორის მანძილის გაზომვის გზა. ამიტომ ყოველთვის მონაცემის ტიპზე დაყრდნობით ხდება მანძილის მეტრიკის არჩევა."
   ]
  },
  {
   "cell_type": "markdown",
   "id": "541b6e85-b8e5-4ebb-9410-edb39aa16143",
   "metadata": {},
   "source": [
    "**რეკომენდაციის სისტემის უმარტივესი ამოცანა**:\n",
    "\n",
    "მოცემულია 6 მომხმარებლის მონაცემები. თითოეული მომხმარებლისთვის ჩვენ გვაქვს ბოლოდროინდელი საყიდლების ისტორია, რომელიც შედგება 4 ნივთისგან. ასევე გვაქვს ამ 4 ნივთის შემდგომ შეძენილი მე-5 ნივთიც.\n",
    "\n",
    "| User   | Shopping History #1         | Shopping History #2 | Shopping History #3         | Shopping History #4 | Purchase (#5)   |\n",
    "| ------ | --------------------------- | ------------------- | --------------------------- | ------------------- | --------------- |\n",
    "| Sanni  | boxing gloves               | Moby Dick (novel)   | headphones                  | sunglasses          | coffee beans    |\n",
    "| Jouni  | t-shirt                     | coffee beans        | coffee maker                | coffee beans        | coffee beans    |\n",
    "| Janina | sunglasses                  | sneakers            | t-shirt                     | sneakers            | ragg wool socks |\n",
    "| Henrik | 2001: A Space Odyssey (dvd) | headphones          | t-shirt                     | boxing gloves       | flip flops      |\n",
    "| Ville  | t-shirt                     | flip flops          | sunglasses                  | Moby Dick (novel)   | sunscreen       |\n",
    "| Teemu  | Moby Dick (novel)           | coffee beans        | 2001: A Space Odyssey (dvd) | headphones          | coffee beans    |\n",
    "\n",
    "უახლოესი მეზობლის მეთოდის გამოსაყენებლად უნდა განვსაზღვროთ რას ვგულისხმობთ \"უახლოესში\". ეს შეიძლება გაკეთდეს სხვადასხვა გზით, რომელთაგან ზოგი უკეთესად მუშაობს, ვიდრე სხვები. მოდით სიმარტივისთვის გამოვიყენოთ საყიდლების ისტორია, სადაც დავითვლით თუ რამდენი ერთი და იგივე ნივთი შეიძინა ორივე მომხმარებელმა.\n",
    "\n",
    "მაგალითად, მომხმარებლებმა Ville-მ და Henrik-მა ორივემ იყიდეს მაისური, ამიტომ მათი მსგავსება არის 1. გაითვალისწინეთ, რომ flip flops არ ითვლება, რადგან მსგავსების გამოთვლისას ჩვენ არ ჩავთვლით უახლეს შენაძენს - ის სხვა მიზნისთვის არის განკუთვნილი.\n",
    "\n",
    "ჩვენი ამოცანაა ვიწინასწარმეტყველოთ Travis-ის შემდეგი შესყიდვა, რომლის ისტორიაც ასე გამოიყურება:\n",
    "\n",
    "| User   | Shopping History #1 | Shopping History #2 | Shopping History #3 | Shopping History #4 | Purchase (#5) |\n",
    "| ------ | ------------------- | ------------------- | ------------------- | ------------------- | ------------- |\n",
    "| Travis | green tea           | t-shirt             | sunglasses          | flip flops          | ?             |\n",
    "\n",
    "<details>\n",
    "  <summary>1. რომელი მომხმარებელია ყველაზე მეტად Travis-ის მსგავსი?</summary>\n",
    "  Ville (3 მსგავსებით)\n",
    "</details>\n",
    "\n",
    "<details>\n",
    "  <summary>2. რომელი ნივთის შესყიდვა იქნება მოსალოდნელი Travis-სგან?</summary>\n",
    "  sunscreen (ვინაიდან Ville-ის ბოლო შესყიდვა იყო sunscreen, ჩვენ მას Travis-საც ვურჩევთ)\n",
    "</details>"
   ]
  },
  {
   "cell_type": "markdown",
   "id": "5084fbf6-822d-4809-9b02-95b3fef15ba7",
   "metadata": {},
   "source": [
    "### K უახლოესი მეზობელი (K-Nearest Neighbor - KNN)"
   ]
  },
  {
   "cell_type": "markdown",
   "id": "334c0f64-304d-4d11-8c7d-b0c7c7540914",
   "metadata": {},
   "source": [
    "K უახლოესი მეზობლის ალგორითმი ერთ-ერთი ყველაზე მარტივი ალგორითმია, რომელიც გამოიყენება მანქანურ სწავლებაში. იგი უზრუნველყოფს მონაცემის მიკუთვნებას იმ კლასისათვის, რომელთანაც უფრო ახლოსაა მონაცემი k მეზობელი კლასებიდან ნიშან-თვისებათა მრავალგანზომილებიან სივრცეში. დასწავლის პროცესში უბრალოდ იმახსოვრებს ყველა ვექტორს და მათ შესაბამის კლასს, ხოლო რეალურ მონაცემებთან მუშაობისას, კლასების გამოცნობისათვის, იგი გამოითვლის ორ ვექტორს შორის მანძილს და k-ს (მეზობელი კლასების რაოდენობა) განსაზღვრის შემდეგ ობიექტს მიაკუთვნებს იმ კლასს, რომელიც ყველაზე უფრო ახლოსაა.\n",
    "\n",
    "<img src=\"https://miro.medium.com/v2/resize:fit:4800/format:webp/0*34SajbTO2C5Lvigs.png\" alt=\"KNN\" width=\"600\"/>"
   ]
  },
  {
   "cell_type": "code",
   "execution_count": 15,
   "id": "d1a2c9df-812b-4bfd-a630-11a1787c79a3",
   "metadata": {
    "ExecuteTime": {
     "end_time": "2024-04-07T10:59:50.165202240Z",
     "start_time": "2024-04-07T10:59:50.085976826Z"
    }
   },
   "outputs": [
    {
     "name": "stdout",
     "output_type": "stream",
     "text": [
      "Expected 0.0, Got 0.0\n"
     ]
    }
   ],
   "source": [
    "def get_neighbors(train, test_row, num_neighbors):\n",
    "    # თითოეულისთვის მანძილის გამოთვლა\n",
    "    distances = []\n",
    "    for train_row in train:\n",
    "        dist = np.linalg.norm(test_row[:2] - train_row[:2])\n",
    "        distances.append((train_row, dist))\n",
    "\n",
    "    # სიის დასორტირება მანძილის მიხედვით ზრდადობით\n",
    "    distances.sort(key=lambda x: x[1])\n",
    "\n",
    "    # უახლოესი num_neighbors რაოდენობის მეზობლის ამორჩევა\n",
    "    neighbors = []\n",
    "    for i in range(num_neighbors):\n",
    "        neighbors.append(distances[i][0])\n",
    "\n",
    "    return neighbors\n",
    "\n",
    "\n",
    "def predict(train, test_row, num_neighbors):\n",
    "    neighbors = get_neighbors(train, test_row, num_neighbors)\n",
    "    output_values = [row[-1] for row in neighbors]\n",
    "    # მეზობლებს შორის ყველაზე ხშირად წარმოდგენილი კლასის არჩევა\n",
    "    prediction = max(set(output_values), key=output_values.count)\n",
    "\n",
    "    return prediction\n",
    "\n",
    "\n",
    "data = np.array(\n",
    "    [\n",
    "        [2.7810836, 2.550537003, 0],\n",
    "        [1.465489372, 2.362125076, 0],\n",
    "        [3.396561688, 4.400293529, 0],\n",
    "        [1.38807019, 1.850220317, 0],\n",
    "        [3.06407232, 3.005305973, 0],\n",
    "        [7.627531214, 2.759262235, 1],\n",
    "        [5.332441248, 2.088626775, 1],\n",
    "        [6.922596716, 1.77106367, 1],\n",
    "        [8.675418651, -0.242068655, 1],\n",
    "        [7.673756466, 3.508563011, 1],\n",
    "    ]\n",
    ")\n",
    "test_data = np.array([0.12341, 1.2789, 0])\n",
    "\n",
    "prediction = predict(train=data, test_row=test_data, num_neighbors=3)\n",
    "print(f\"Expected {test_data[-1]}, Got {prediction}\")"
   ]
  },
  {
   "cell_type": "markdown",
   "id": "be42e944-9dbe-4979-aa75-cea9103f19f1",
   "metadata": {
    "ExecuteTime": {
     "end_time": "2024-03-05T06:21:07.434827138Z",
     "start_time": "2024-03-05T06:21:07.425627238Z"
    }
   },
   "source": [
    "## კოსინუსის მსგავსება"
   ]
  },
  {
   "cell_type": "markdown",
   "id": "327d6313-19ed-43bf-9003-81583ea54ef1",
   "metadata": {},
   "source": [
    "Term Frequency - Inverse Document Frequency (TF-IDF)\n",
    "\n",
    "[wikipedia-ის სტატია TF-IDF-ის შესახებ](https://en.wikipedia.org/wiki/Tf%E2%80%93idf)\n",
    "\n",
    "[ვიდეო TF-IDF-ის შესახებ](https://youtu.be/OymqCnh-APA)"
   ]
  },
  {
   "cell_type": "code",
   "execution_count": 16,
   "id": "b4ca698133c5f103",
   "metadata": {
    "ExecuteTime": {
     "end_time": "2024-04-07T10:59:50.166195215Z",
     "start_time": "2024-04-07T10:59:50.086455270Z"
    },
    "collapsed": false,
    "jupyter": {
     "outputs_hidden": false
    }
   },
   "outputs": [
    {
     "data": {
      "text/plain": [
       "array([[0.57472096]])"
      ]
     },
     "execution_count": 16,
     "metadata": {},
     "output_type": "execute_result"
    }
   ],
   "source": [
    "sentence_1 = \"Quick brown fox jumps over the lazy dog.\"\n",
    "sentence_2 = \"Quick brown dog outpaces the quick fox.\"\n",
    "\n",
    "vectorizer = TfidfVectorizer()\n",
    "tfidf_matrix = vectorizer.fit_transform([sentence_1, sentence_2])\n",
    "\n",
    "cosine_sim = cosine_similarity(tfidf_matrix[0], tfidf_matrix[1])\n",
    "cosine_sim"
   ]
  },
  {
   "cell_type": "code",
   "execution_count": 17,
   "id": "7d81a6f5-0cd0-46bd-8994-87cd273fbaff",
   "metadata": {
    "ExecuteTime": {
     "end_time": "2024-04-07T10:59:50.364706470Z",
     "start_time": "2024-04-07T10:59:50.097497676Z"
    }
   },
   "outputs": [
    {
     "data": {
      "text/plain": [
       "array(['brown', 'dog', 'fox', 'jumps', 'lazy', 'outpaces', 'over',\n",
       "       'quick', 'the'], dtype=object)"
      ]
     },
     "execution_count": 17,
     "metadata": {},
     "output_type": "execute_result"
    }
   ],
   "source": [
    "vectorizer.get_feature_names_out()"
   ]
  },
  {
   "cell_type": "code",
   "execution_count": 18,
   "id": "17b300dc-bb6f-4733-90ca-0fb587af8225",
   "metadata": {
    "ExecuteTime": {
     "end_time": "2024-04-07T10:59:50.365635875Z",
     "start_time": "2024-04-07T10:59:50.158056370Z"
    }
   },
   "outputs": [
    {
     "data": {
      "text/plain": [
       "matrix([[0.30253071, 0.30253071, 0.30253071, 0.42519636, 0.42519636,\n",
       "         0.        , 0.42519636, 0.30253071, 0.30253071],\n",
       "        [0.31661852, 0.31661852, 0.31661852, 0.        , 0.        ,\n",
       "         0.44499628, 0.        , 0.63323704, 0.31661852]])"
      ]
     },
     "execution_count": 18,
     "metadata": {},
     "output_type": "execute_result"
    }
   ],
   "source": [
    "tfidf_matrix.todense()"
   ]
  },
  {
   "cell_type": "code",
   "execution_count": null,
   "id": "b9fa8e3d-362b-43ab-8b20-846e3de724b9",
   "metadata": {
    "ExecuteTime": {
     "end_time": "2024-04-07T10:59:50.366519653Z",
     "start_time": "2024-04-07T10:59:50.158462808Z"
    }
   },
   "outputs": [],
   "source": []
  }
 ],
 "metadata": {
  "kernelspec": {
   "display_name": "Python 3 (ipykernel)",
   "language": "python",
   "name": "python3"
  },
  "language_info": {
   "codemirror_mode": {
    "name": "ipython",
    "version": 3
   },
   "file_extension": ".py",
   "mimetype": "text/x-python",
   "name": "python",
   "nbconvert_exporter": "python",
   "pygments_lexer": "ipython3",
   "version": "3.10.12"
  }
 },
 "nbformat": 4,
 "nbformat_minor": 5
}
